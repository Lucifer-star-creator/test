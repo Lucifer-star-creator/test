{
 "cells": [
  {
   "cell_type": "code",
   "execution_count": 7,
   "id": "dfef990c",
   "metadata": {},
   "outputs": [],
   "source": [
    "import cv2 # for image processing\n",
    "import easygui # to open the filebox\n",
    "import numpy as np #to store image\n",
    "import imageio # to read image stored at particular path\n",
    "import sys\n",
    "import matplotlib.pyplot as plt\n",
    "import os\n",
    "import tkinter as tk\n",
    "from tkinter import filedialog\n",
    "from tkinter import *\n",
    "from PIL import ImageTk, Image"
   ]
  },
  {
   "cell_type": "code",
   "execution_count": 8,
   "id": "e294aa1a",
   "metadata": {},
   "outputs": [
    {
     "data": {
      "text/plain": [
       "'we will build the main window of our application, where the buttons, labels, and images will reside. We also give it a title by title() function.'"
      ]
     },
     "execution_count": 8,
     "metadata": {},
     "output_type": "execute_result"
    }
   ],
   "source": [
    "\"\"\"we will build the main window of our application, where the buttons, labels, and images will reside. We also give it a title by title() function.\"\"\"\n"
   ]
  },
  {
   "cell_type": "code",
   "execution_count": 9,
   "id": "549bf7fb",
   "metadata": {},
   "outputs": [],
   "source": [
    "\"\"\" fileopenbox opens the box to choose file\n",
    "and help us store file path as string \"\"\"\n",
    "def upload():\n",
    "    ImagePath = easygui.fileopenbox()\n",
    "    cartoonify(ImagePath)"
   ]
  },
  {
   "cell_type": "code",
   "execution_count": 10,
   "id": "8cb05e1f",
   "metadata": {},
   "outputs": [],
   "source": [
    "def cartoonify(ImagePath):\n",
    "    #READ IMAGE\n",
    "    originalmage = cv2.imread(ImagePath)\n",
    "    originalmage = cv2.cvtColor(originalmage,cv2.COLOR_BAYER_BG2BGR)\n",
    "    #print(image) # image is stored in form of numbers\n",
    "    \n",
    "    #confirm that image is chosen\n",
    "    if originalmage is None:\n",
    "        print(\"cannot find any image.choose appropriate file\")\n",
    "        sys.exit()\n",
    "    Resizes1 = cv2.resize(originalmage, (960,540))\n",
    "    #plt.imshow(Resizes1, cmap='gray')\n",
    "    #converting an image to grayscale\n",
    "    grayscaleImage = cv2.cvtColor(originalmage, cv2.COLOR_BAYER_BG2BGR)\n",
    "    Resized2 = cv2.resize(grayscaleImage, (960,540))\n",
    "    #plt.imshow(Resized2, cmap='gray')\n",
    "    #applying median blur to smoothen an image\n",
    "    "
   ]
  },
  {
   "cell_type": "code",
   "execution_count": null,
   "id": "13c5bc0e",
   "metadata": {},
   "outputs": [],
   "source": []
  }
 ],
 "metadata": {
  "kernelspec": {
   "display_name": "Python 3 (ipykernel)",
   "language": "python",
   "name": "python3"
  },
  "language_info": {
   "codemirror_mode": {
    "name": "ipython",
    "version": 3
   },
   "file_extension": ".py",
   "mimetype": "text/x-python",
   "name": "python",
   "nbconvert_exporter": "python",
   "pygments_lexer": "ipython3",
   "version": "3.10.6"
  }
 },
 "nbformat": 4,
 "nbformat_minor": 5
}
